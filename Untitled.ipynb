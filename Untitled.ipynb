{
 "cells": [
  {
   "cell_type": "code",
   "execution_count": 1,
   "metadata": {},
   "outputs": [],
   "source": [
    "from disambiguate_NE import disambiguate_NE, _id2title"
   ]
  },
  {
   "cell_type": "code",
   "execution_count": 4,
   "metadata": {},
   "outputs": [
    {
     "data": {
      "text/plain": [
       "{'title': 253639,\n",
       " 'redirect': 59175840,\n",
       " 'bold': [],\n",
       " 'anchor': {64058678: 194,\n",
       "  56467575: 18,\n",
       "  56815814: 10,\n",
       "  63762676: 5,\n",
       "  63585711: 6,\n",
       "  63329912: 1,\n",
       "  59853734: 1,\n",
       "  59175840: 1,\n",
       "  57865213: 2,\n",
       "  61438004: 1,\n",
       "  58470120: 1,\n",
       "  53432227: 2,\n",
       "  31377850: 1,\n",
       "  52254307: 1,\n",
       "  49285229: 1,\n",
       "  52237066: 1,\n",
       "  60149406: 1,\n",
       "  58538777: 1,\n",
       "  52231489: 1,\n",
       "  53096753: 1,\n",
       "  52316569: 1,\n",
       "  62435358: 2,\n",
       "  53231873: 2}}"
      ]
     },
     "execution_count": 4,
     "metadata": {},
     "output_type": "execute_result"
    }
   ],
   "source": [
    "disambiguate_NE(\"Trump\")"
   ]
  },
  {
   "cell_type": "code",
   "execution_count": 10,
   "metadata": {},
   "outputs": [
    {
     "data": {
      "text/plain": [
       "'War'"
      ]
     },
     "execution_count": 10,
     "metadata": {},
     "output_type": "execute_result"
    }
   ],
   "source": [
    "_id2title(33158)"
   ]
  },
  {
   "cell_type": "code",
   "execution_count": 5,
   "metadata": {},
   "outputs": [
    {
     "name": "stdout",
     "output_type": "stream",
     "text": [
      "# ner_wiki\n",
      "\n"
     ]
    }
   ],
   "source": [
    "with open(\"README.md\") as f:\n",
    "    \n",
    "    line = next(f)\n",
    "    print(line)"
   ]
  },
  {
   "cell_type": "code",
   "execution_count": null,
   "metadata": {},
   "outputs": [],
   "source": [
    "from load_data import load_anchor"
   ]
  },
  {
   "cell_type": "code",
   "execution_count": null,
   "metadata": {},
   "outputs": [],
   "source": []
  }
 ],
 "metadata": {
  "kernelspec": {
   "display_name": "Python 3",
   "language": "python",
   "name": "python3"
  },
  "language_info": {
   "codemirror_mode": {
    "name": "ipython",
    "version": 3
   },
   "file_extension": ".py",
   "mimetype": "text/x-python",
   "name": "python",
   "nbconvert_exporter": "python",
   "pygments_lexer": "ipython3",
   "version": "3.8.2"
  }
 },
 "nbformat": 4,
 "nbformat_minor": 4
}
