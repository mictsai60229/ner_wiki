{
 "cells": [
  {
   "cell_type": "code",
   "execution_count": 1,
   "metadata": {},
   "outputs": [],
   "source": [
    "from disambiguate_NE import disambiguate_NE, _id2title, check_redirect\n",
    "from disambiguate_NE import gen_NE_candidates"
   ]
  },
  {
   "cell_type": "code",
   "execution_count": 2,
   "metadata": {},
   "outputs": [
    {
     "data": {
      "text/plain": [
       "'Democratic Party (United States)'"
      ]
     },
     "execution_count": 2,
     "metadata": {},
     "output_type": "execute_result"
    }
   ],
   "source": [
    "disambiguate_NE(\"Democratic\")"
   ]
  },
  {
   "cell_type": "code",
   "execution_count": 3,
   "metadata": {},
   "outputs": [
    {
     "data": {
      "text/plain": [
       "'Coronavirus disease 2019'"
      ]
     },
     "execution_count": 3,
     "metadata": {},
     "output_type": "execute_result"
    }
   ],
   "source": [
    "disambiguate_NE(\"Covid-19\")"
   ]
  },
  {
   "cell_type": "code",
   "execution_count": 4,
   "metadata": {},
   "outputs": [
    {
     "data": {
      "text/plain": [
       "'World Health Organization'"
      ]
     },
     "execution_count": 4,
     "metadata": {},
     "output_type": "execute_result"
    }
   ],
   "source": [
    "disambiguate_NE(\"WHO\")"
   ]
  },
  {
   "cell_type": "code",
   "execution_count": 5,
   "metadata": {},
   "outputs": [
    {
     "data": {
      "text/plain": [
       "{'title': 13945641,\n",
       " 'redirect': -1,\n",
       " 'bold': [],\n",
       " 'anchor': {5043544: 12753,\n",
       "  3088213: 36,\n",
       "  1269164: 1,\n",
       "  9428884: 4,\n",
       "  401521: 5,\n",
       "  401493: 2,\n",
       "  2402362: 6,\n",
       "  1213941: 4,\n",
       "  881689: 22,\n",
       "  9427563: 2,\n",
       "  9428860: 4,\n",
       "  3897437: 3,\n",
       "  9428874: 17,\n",
       "  9427242: 4,\n",
       "  468102: 14,\n",
       "  5103838: 23,\n",
       "  1013168: 1,\n",
       "  38443580: 3,\n",
       "  3360323: 3,\n",
       "  64322390: 1,\n",
       "  3955409: 46,\n",
       "  49777025: 6,\n",
       "  1138116: 13,\n",
       "  2493747: 1,\n",
       "  1910430: 2,\n",
       "  7484027: 7,\n",
       "  9427210: 3,\n",
       "  2067400: 2,\n",
       "  5855000: 5,\n",
       "  9427527: 11,\n",
       "  861808: 6,\n",
       "  32070: 3,\n",
       "  1670839: 1,\n",
       "  4945002: 40,\n",
       "  19431987: 1,\n",
       "  3492227: 1,\n",
       "  16188516: 1,\n",
       "  11247106: 1,\n",
       "  4848416: 5,\n",
       "  3434750: 1,\n",
       "  9428868: 11,\n",
       "  7959: 9,\n",
       "  7644627: 11,\n",
       "  9002823: 5,\n",
       "  861412: 3,\n",
       "  9427377: 37,\n",
       "  2363575: 6,\n",
       "  1555253: 10,\n",
       "  75413: 15,\n",
       "  9427420: 3,\n",
       "  32080: 4,\n",
       "  9427299: 51,\n",
       "  1729278: 9,\n",
       "  64322247: 1,\n",
       "  603118: 2,\n",
       "  9034086: 9,\n",
       "  2430932: 3,\n",
       "  476679: 5,\n",
       "  4176146: 1,\n",
       "  7461727: 1,\n",
       "  9427256: 2,\n",
       "  9428840: 1,\n",
       "  9427467: 2,\n",
       "  339032: 9,\n",
       "  1831007: 1,\n",
       "  6261243: 3,\n",
       "  8486324: 1,\n",
       "  584810: 1,\n",
       "  8005160: 33,\n",
       "  30714536: 3,\n",
       "  64322435: 1,\n",
       "  9427286: 2,\n",
       "  64322295: 1,\n",
       "  384945: 1,\n",
       "  4743765: 7,\n",
       "  16278726: 1,\n",
       "  8886632: 1,\n",
       "  602874: 1,\n",
       "  64322497: 1,\n",
       "  4395393: 1,\n",
       "  37643953: 6,\n",
       "  64322305: 1,\n",
       "  9427390: 2,\n",
       "  9428895: 2,\n",
       "  4243103: 1,\n",
       "  425720: 1,\n",
       "  14713051: 2,\n",
       "  2134621: 1,\n",
       "  1841818: 2,\n",
       "  5130961: 1,\n",
       "  41731944: 3,\n",
       "  19034580: 3,\n",
       "  7072081: 2,\n",
       "  27927795: 1,\n",
       "  9427370: 1,\n",
       "  18702605: 2,\n",
       "  60941268: 1,\n",
       "  620630: 7,\n",
       "  39596452: 1,\n",
       "  46385527: 1,\n",
       "  64321018: 1,\n",
       "  9427510: 1,\n",
       "  6558924: 1,\n",
       "  1119869: 1,\n",
       "  1949004: 1,\n",
       "  30993635: 1,\n",
       "  18408464: 1,\n",
       "  42316753: 15,\n",
       "  397335: 1,\n",
       "  64245679: 2,\n",
       "  64245883: 1,\n",
       "  49856830: 1}}"
      ]
     },
     "execution_count": 5,
     "metadata": {},
     "output_type": "execute_result"
    }
   ],
   "source": [
    "gen_NE_candidates(\"Democratic\")"
   ]
  },
  {
   "cell_type": "code",
   "execution_count": null,
   "metadata": {},
   "outputs": [],
   "source": []
  }
 ],
 "metadata": {
  "kernelspec": {
   "display_name": "Python 3",
   "language": "python",
   "name": "python3"
  },
  "language_info": {
   "codemirror_mode": {
    "name": "ipython",
    "version": 3
   },
   "file_extension": ".py",
   "mimetype": "text/x-python",
   "name": "python",
   "nbconvert_exporter": "python",
   "pygments_lexer": "ipython3",
   "version": "3.8.2"
  }
 },
 "nbformat": 4,
 "nbformat_minor": 4
}
