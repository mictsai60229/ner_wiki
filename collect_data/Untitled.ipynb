{
 "cells": [
  {
   "cell_type": "code",
   "execution_count": 1,
   "metadata": {},
   "outputs": [],
   "source": [
    "from multiworkers import multiworkers"
   ]
  },
  {
   "cell_type": "code",
   "execution_count": 2,
   "metadata": {},
   "outputs": [],
   "source": [
    "from extract import pages_generator, extract_bold"
   ]
  },
  {
   "cell_type": "code",
   "execution_count": 3,
   "metadata": {},
   "outputs": [],
   "source": [
    "save_file = \"enwiki-latest-bold.tsv\"\n",
    "pages = pages_generator(\"enwiki-latest-pages-articles-multistream.xml.bz2\")"
   ]
  },
  {
   "cell_type": "code",
   "execution_count": 4,
   "metadata": {},
   "outputs": [],
   "source": [
    "#func, task_list, save_file, workers=10\n",
    "multiworkers(extract_bold, pages, save_file, 50)"
   ]
  },
  {
   "cell_type": "code",
   "execution_count": 5,
   "metadata": {},
   "outputs": [],
   "source": [
    "from extract import extract_anchor_frequency, anchor_file_generator\n",
    "from multiworkers import anchor_multiworkers"
   ]
  },
  {
   "cell_type": "code",
   "execution_count": 6,
   "metadata": {},
   "outputs": [],
   "source": [
    "save_file = \"enwiki-latest-anchor.temp\"\n",
    "pages = anchor_file_generator(\"enwiki-pages-articles/\")"
   ]
  },
  {
   "cell_type": "code",
   "execution_count": 7,
   "metadata": {},
   "outputs": [],
   "source": [
    "anchor_multiworkers(extract_anchor_frequency, pages, save_file, 50)"
   ]
  },
  {
   "cell_type": "code",
   "execution_count": null,
   "metadata": {},
   "outputs": [],
   "source": [
    "from collections import Counter, defaultdict\n",
    "\n",
    "counts = 0\n",
    "anchor_counter = defaultdict(Counter)\n",
    "\n",
    "def sum_anchor_count(a, b):\n",
    "    \n",
    "    for key, value in b.items():\n",
    "        a[key] += value\n",
    "\n",
    "for idx, line in enumerate(open(save_file)):\n",
    "    anchor_counter_temp, count = line.strip().rsplit(\"\\t\", 1)\n",
    "    anchor_counter_temp = eval(anchor_counter_temp)\n",
    "    count = int(count)\n",
    "    \n",
    "    anchor_counter += anchor_counter_temp\n",
    "    counts += count\n",
    "    \n",
    "\n"
   ]
  },
  {
   "cell_type": "code",
   "execution_count": null,
   "metadata": {},
   "outputs": [],
   "source": []
  }
 ],
 "metadata": {
  "kernelspec": {
   "display_name": "Python 3",
   "language": "python",
   "name": "python3"
  },
  "language_info": {
   "codemirror_mode": {
    "name": "ipython",
    "version": 3
   },
   "file_extension": ".py",
   "mimetype": "text/x-python",
   "name": "python",
   "nbconvert_exporter": "python",
   "pygments_lexer": "ipython3",
   "version": "3.8.2"
  }
 },
 "nbformat": 4,
 "nbformat_minor": 4
}
